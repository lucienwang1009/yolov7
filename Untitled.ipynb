{
 "cells": [
  {
   "cell_type": "code",
   "execution_count": 3,
   "id": "bc22e283-882c-43df-b03c-01f41c4c7d3d",
   "metadata": {},
   "outputs": [
    {
     "name": "stdout",
     "output_type": "stream",
     "text": [
      "0 0.577713 0.445381 0.058651 0.216276\n",
      "0 0.581623 0.941349 0.0518084 0.109971\n",
      "0 0.414956 0.777126 0.0400782 0.0909091\n",
      "0 0.581623 0.880499 0.054741 0.230205\n",
      "0 0.460899 0.33651 0.040567 0.202346\n",
      "0 0.526515 0.408266 0.252933 0.419538\n",
      "0 0.853861 0.76393 0.0205278 0.140762\n",
      "0 0.48436 0.417889 0.323558 0.497801\n",
      "0 0.576246 0.852639 0.0488758 0.227273\n",
      "0 0.467498 0.802786 0.0298143 0.127566\n",
      "0 0.581623 0.93915 0.0782014 0.117302\n",
      "0 0.574291 0.807185 0.0400782 0.130499\n",
      "12 0.5812174479166666 0.93359375 0.052408854166666664 0.1328125\n",
      "10 0.578125 0.4462890625 0.059244791666666664 0.216796875\n"
     ]
    }
   ],
   "source": [
    "!cat runs/test/scratch_no_class/labels/000001.txt\n",
    "!cat /home/lucien/datasets/koujian_data/data_11_13/yolov6/labels/val/000001.txt"
   ]
  },
  {
   "cell_type": "code",
   "execution_count": 43,
   "id": "cfb51114-3814-472a-afb5-cbbe354003a7",
   "metadata": {},
   "outputs": [
    {
     "name": "stdout",
     "output_type": "stream",
     "text": [
      "/home/lucien/datasets/koujian_data/data_11_13/yolov6_few_shot/labels/val/3K_002635.txt: {tensor(3.): tensor(0.93829)}\n",
      "/home/lucien/datasets/koujian_data/data_11_13/yolov6_few_shot/labels/val/001426.txt: {tensor(3.): tensor(0.69485)}\n",
      "/home/lucien/datasets/koujian_data/data_11_13/yolov6_few_shot/labels/val/001880.txt: {tensor(3.): tensor(0.75254)}\n",
      "/home/lucien/datasets/koujian_data/data_11_13/yolov6_few_shot/labels/val/002111.txt: {tensor(3.): tensor(0.78583)}\n",
      "/home/lucien/datasets/koujian_data/data_11_13/yolov6_few_shot/labels/val/000645.txt: {tensor(2.): tensor(0.67078)}\n",
      "/home/lucien/datasets/koujian_data/data_11_13/yolov6_few_shot/labels/val/001320.txt: {tensor(3.): tensor(0.73209)}\n",
      "/home/lucien/datasets/koujian_data/data_11_13/yolov6_few_shot/labels/val/002349.txt: {tensor(3.): tensor(0.65005)}\n",
      "/home/lucien/datasets/koujian_data/data_11_13/yolov6_few_shot/labels/val/001569.txt: {tensor(5.): tensor(0.47250)}\n",
      "/home/lucien/datasets/koujian_data/data_11_13/yolov6_few_shot/labels/val/001695.txt: {tensor(1.): tensor(0.55536)}\n",
      "/home/lucien/datasets/koujian_data/data_11_13/yolov6_few_shot/labels/val/3K_001763.txt: {tensor(1.): tensor(0.74826)}\n",
      "/home/lucien/datasets/koujian_data/data_11_13/yolov6_few_shot/labels/val/001463.txt: {tensor(3.): tensor(0.80961)}\n",
      "/home/lucien/datasets/koujian_data/data_11_13/yolov6_few_shot/labels/val/3K_001319.txt: {tensor(3.): tensor(0.68442)}\n",
      "/home/lucien/datasets/koujian_data/data_11_13/yolov6_few_shot/labels/val/001311.txt: {tensor(3.): tensor(0.81787), tensor(3.): tensor(0.74352)}\n",
      "/home/lucien/datasets/koujian_data/data_11_13/yolov6_few_shot/labels/val/002129.txt: {tensor(3.): tensor(0.68492)}\n",
      "/home/lucien/datasets/koujian_data/data_11_13/yolov6_few_shot/labels/val/002684.txt: {tensor(3.): tensor(0.59731)}\n",
      "/home/lucien/datasets/koujian_data/data_11_13/yolov6_few_shot/labels/val/000116.txt: {tensor(3.): tensor(0.76306)}\n",
      "/home/lucien/datasets/koujian_data/data_11_13/yolov6_few_shot/labels/val/3K_001424.txt: {tensor(3.): tensor(0.77893)}\n",
      "/home/lucien/datasets/koujian_data/data_11_13/yolov6_few_shot/labels/val/001510.txt: {tensor(1.): tensor(0.80360)}\n",
      "/home/lucien/datasets/koujian_data/data_11_13/yolov6_few_shot/labels/val/001323.txt: {tensor(3.): tensor(0.85098)}\n",
      "/home/lucien/datasets/koujian_data/data_11_13/yolov6_few_shot/labels/val/001514.txt: {tensor(3.): tensor(0.61919)}\n",
      "/home/lucien/datasets/koujian_data/data_11_13/yolov6_few_shot/labels/val/3K_001876.txt: {tensor(3.): tensor(0.73387)}\n",
      "/home/lucien/datasets/koujian_data/data_11_13/yolov6_few_shot/labels/val/001476.txt: {tensor(3.): tensor(0.79382)}\n",
      "/home/lucien/datasets/koujian_data/data_11_13/yolov6_few_shot/labels/val/3K_001483.txt: {tensor(3.): tensor(0.63271)}\n",
      "/home/lucien/datasets/koujian_data/data_11_13/yolov6_few_shot/labels/val/001502.txt: {tensor(3.): tensor(0.70442)}\n",
      "/home/lucien/datasets/koujian_data/data_11_13/yolov6_few_shot/labels/val/3K_001427.txt: {tensor(3.): tensor(0.67081)}\n",
      "/home/lucien/datasets/koujian_data/data_11_13/yolov6_few_shot/labels/val/000147.txt: {tensor(0.): tensor(0.59452)}\n",
      "/home/lucien/datasets/koujian_data/data_11_13/yolov6_few_shot/labels/val/000005.txt: {tensor(3.): tensor(0.88208)}\n",
      "/home/lucien/datasets/koujian_data/data_11_13/yolov6_few_shot/labels/val/002082.txt: {tensor(1.): tensor(0.79193)}\n",
      "/home/lucien/datasets/koujian_data/data_11_13/yolov6_few_shot/labels/val/001455.txt: {tensor(3.): tensor(0.52555)}\n",
      "/home/lucien/datasets/koujian_data/data_11_13/yolov6_few_shot/labels/val/3K_001183.txt: {tensor(1.): tensor(0.74436)}\n",
      "/home/lucien/datasets/koujian_data/data_11_13/yolov6_few_shot/labels/val/000270.txt: {tensor(3.): tensor(0.15317)}\n",
      "/home/lucien/datasets/koujian_data/data_11_13/yolov6_few_shot/labels/val/001649.txt: {tensor(4.): tensor(0.90682)}\n",
      "/home/lucien/datasets/koujian_data/data_11_13/yolov6_few_shot/labels/val/002191.txt: {tensor(3.): tensor(0.70306)}\n",
      "/home/lucien/datasets/koujian_data/data_11_13/yolov6_few_shot/labels/val/3K_002101.txt: {tensor(2.): tensor(0.55757)}\n",
      "/home/lucien/datasets/koujian_data/data_11_13/yolov6_few_shot/labels/val/3K_001813.txt: {tensor(3.): tensor(0.59244)}\n",
      "/home/lucien/datasets/koujian_data/data_11_13/yolov6_few_shot/labels/val/001429.txt: {tensor(3.): tensor(0.86185)}\n",
      "/home/lucien/datasets/koujian_data/data_11_13/yolov6_few_shot/labels/val/001406.txt: {tensor(3.): tensor(0.81993)}\n",
      "/home/lucien/datasets/koujian_data/data_11_13/yolov6_few_shot/labels/val/000122.txt: {tensor(3.): tensor(0.78249)}\n",
      "/home/lucien/datasets/koujian_data/data_11_13/yolov6_few_shot/labels/val/3K_000532.txt: {tensor(3.): tensor(0.88125)}\n"
     ]
    }
   ],
   "source": [
    "import pickle\n",
    "import torch\n",
    "from pathlib import Path\n",
    "\n",
    "from utils.general import box_iou, xywh2xyxy\n",
    "\n",
    "pred_dir = Path('runs/test/scratch_no_class/labels/')\n",
    "target_dir = Path('/home/lucien/datasets/koujian_data/data_11_13/yolov6_few_shot/labels/val/')\n",
    "\n",
    "def read_labels(file):\n",
    "    bboxes = []\n",
    "    with open(file, 'r') as f:\n",
    "        lines = f.readlines()\n",
    "        for line in lines:\n",
    "            bboxes.append(list(\n",
    "                float(l) for l in line.strip().split(' ')\n",
    "            ))\n",
    "    return torch.tensor(bboxes, dtype=torch.float)\n",
    "\n",
    "def compare(pred, target):\n",
    "    label_pred = read_labels(pred)\n",
    "    label_target = read_labels(target)\n",
    "    bbox_pred = xywh2xyxy(label_pred[:, 1:])\n",
    "    bbox_target = xywh2xyxy(label_target[:, 1:])\n",
    "    best_iou, indices = box_iou(bbox_pred, bbox_target).max(0)\n",
    "    print('{}: {}'.format(target, dict(zip(label_target[:, 0], best_iou))))\n",
    "\n",
    "for label_file in target_dir.iterdir():\n",
    "    if label_file.stat().st_size == 0:\n",
    "        continue\n",
    "    label_name = label_file.name\n",
    "    if not (pred_dir / label_name).exists():\n",
    "        print(f'No preds for {label_name}')\n",
    "        continue\n",
    "    compare(pred_dir / label_name, target_dir / label_name)"
   ]
  }
 ],
 "metadata": {
  "kernelspec": {
   "display_name": "cuda1003_torch110",
   "language": "python",
   "name": "cuda1103_torch110"
  },
  "language_info": {
   "codemirror_mode": {
    "name": "ipython",
    "version": 3
   },
   "file_extension": ".py",
   "mimetype": "text/x-python",
   "name": "python",
   "nbconvert_exporter": "python",
   "pygments_lexer": "ipython3",
   "version": "3.8.13"
  }
 },
 "nbformat": 4,
 "nbformat_minor": 5
}
